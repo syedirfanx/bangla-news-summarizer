{
  "nbformat": 4,
  "nbformat_minor": 0,
  "metadata": {
    "colab": {
      "provenance": [],
      "gpuType": "T4"
    },
    "kernelspec": {
      "name": "python3",
      "display_name": "Python 3"
    },
    "language_info": {
      "name": "python"
    },
    "accelerator": "GPU"
  },
  "cells": [
    {
      "cell_type": "code",
      "execution_count": null,
      "metadata": {
        "id": "0Ey1dpZjJL9i"
      },
      "outputs": [],
      "source": [
        "!pip install pytesseract opencv-python Pillow pandas nltk gensim sumy PyDrive"
      ]
    },
    {
      "cell_type": "code",
      "source": [
        " !sudo apt install tesseract-ocr tesseract-ocr-ben"
      ],
      "metadata": {
        "colab": {
          "base_uri": "https://localhost:8080/"
        },
        "id": "xbBm1hqNJdyX",
        "outputId": "e7cb9237-e743-47cf-b635-df68d8aa1f51"
      },
      "execution_count": 33,
      "outputs": [
        {
          "output_type": "stream",
          "name": "stdout",
          "text": [
            "Reading package lists... Done\n",
            "Building dependency tree... Done\n",
            "Reading state information... Done\n",
            "tesseract-ocr is already the newest version (4.1.1-2.1build1).\n",
            "tesseract-ocr-ben is already the newest version (1:4.00~git30-7274cfa-1.1).\n",
            "0 upgraded, 0 newly installed, 0 to remove and 38 not upgraded.\n"
          ]
        }
      ]
    },
    {
      "cell_type": "code",
      "source": [
        "from google.colab import drive\n",
        "drive.mount('/content/drive')\n"
      ],
      "metadata": {
        "colab": {
          "base_uri": "https://localhost:8080/"
        },
        "id": "IF2ebvCgJgF9",
        "outputId": "e1f82a2e-05d5-4087-8275-714340b7ff13"
      },
      "execution_count": 34,
      "outputs": [
        {
          "output_type": "stream",
          "name": "stdout",
          "text": [
            "Drive already mounted at /content/drive; to attempt to forcibly remount, call drive.mount(\"/content/drive\", force_remount=True).\n"
          ]
        }
      ]
    },
    {
      "cell_type": "markdown",
      "source": [
        "## OCR"
      ],
      "metadata": {
        "id": "64S32PMPhDc8"
      }
    },
    {
      "cell_type": "code",
      "source": [
        "import pytesseract\n",
        "from PIL import Image\n",
        "import cv2\n",
        "import os\n",
        "import pandas as pd\n",
        "from datetime import datetime\n",
        "\n",
        "image_dir = '/content/drive/MyDrive/BanglaNewsSummarizer/data/'\n",
        "output_text_dir = '/content/drive/MyDrive/BanglaNewsSummarizer/output/text/raw/'\n",
        "os.makedirs(output_text_dir, exist_ok=True)\n",
        "\n",
        "\n",
        "for filename in os.listdir(image_dir):\n",
        "    if filename.lower().endswith(('.png', '.jpg', '.jpeg')):\n",
        "        image_path = os.path.join(image_dir, filename)\n",
        "\n",
        "        img = cv2.imread(image_path)\n",
        "        gray = cv2.cvtColor(img, cv2.COLOR_BGR2GRAY)\n",
        "        gray = cv2.medianBlur(gray, 3)\n",
        "        gray = cv2.resize(gray, None, fx=2.0, fy=2.0)\n",
        "\n",
        "        pil_img = Image.fromarray(gray)\n",
        "\n",
        "        try:\n",
        "            text = pytesseract.image_to_string(pil_img, lang='ben')\n",
        "        except Exception as e:\n",
        "            text = \"\"\n",
        "            print(f\"OCR failed for {filename}: {e}\")\n",
        "\n",
        "        output_file = os.path.join(output_text_dir, os.path.splitext(filename)[0] + '.txt')\n",
        "        with open(output_file, 'w', encoding='utf-8') as f:\n",
        "            f.write(text)"
      ],
      "metadata": {
        "id": "EVWqGnY7L-Xc"
      },
      "execution_count": 35,
      "outputs": []
    },
    {
      "cell_type": "markdown",
      "source": [
        "## Cleaning"
      ],
      "metadata": {
        "id": "wgWqjI5uhImq"
      }
    },
    {
      "cell_type": "code",
      "source": [
        "import os\n",
        "import re\n",
        "\n",
        "raw_text_dir = '/content/drive/MyDrive/BanglaNewsSummarizer/output/text/raw/'\n",
        "clean_text_dir = '/content/drive/MyDrive/BanglaNewsSummarizer/output/text/clean/'\n",
        "os.makedirs(clean_text_dir, exist_ok=True)\n",
        "\n",
        "bangla_pattern = re.compile(r'[^\\u0980-\\u09FF\\s।]')\n",
        "\n",
        "def segment_sentences(text):\n",
        "    sentences = re.split(r'।|\\n', text)\n",
        "    sentences = [s.strip() for s in sentences if s.strip()]\n",
        "    return sentences\n",
        "\n",
        "for filename in os.listdir(raw_text_dir):\n",
        "    if filename.endswith('.txt'):\n",
        "        raw_file_path = os.path.join(raw_text_dir, filename)\n",
        "\n",
        "        with open(raw_file_path, 'r', encoding='utf-8') as f:\n",
        "            text = f.read()\n",
        "\n",
        "        text = bangla_pattern.sub(' ', text)\n",
        "        text = re.sub(r'\\s+', ' ', text).strip()\n",
        "        sentences = segment_sentences(text)\n",
        "\n",
        "        cleaned_text = '\\n'.join(sentences)\n",
        "\n",
        "        clean_file_path = os.path.join(clean_text_dir, filename)\n",
        "        with open(clean_file_path, 'w', encoding='utf-8') as f:\n",
        "            f.write(cleaned_text)\n",
        "\n",
        "print(f\"Text cleaning completed. Cleaned files saved in: {clean_text_dir}\")\n"
      ],
      "metadata": {
        "colab": {
          "base_uri": "https://localhost:8080/"
        },
        "id": "XbtB8FkgTJSR",
        "outputId": "2e13feff-f44a-4b55-eacd-6a92a1a84f46"
      },
      "execution_count": 36,
      "outputs": [
        {
          "output_type": "stream",
          "name": "stdout",
          "text": [
            "Text cleaning completed. Cleaned files saved in: /content/drive/MyDrive/BanglaNewsSummarizer/output/text/clean/\n"
          ]
        }
      ]
    },
    {
      "cell_type": "markdown",
      "source": [
        "## Remove stopwords"
      ],
      "metadata": {
        "id": "yX9Hiq6YhLwZ"
      }
    },
    {
      "cell_type": "code",
      "source": [
        "\n",
        "clean_text_dir = '/content/drive/MyDrive/BanglaNewsSummarizer/output/text/clean/'\n",
        "no_stopword_dir = '/content/drive/MyDrive/BanglaNewsSummarizer/output/text/no_stopwords/'\n",
        "stopwords_file = '/content/drive/MyDrive/BanglaNewsSummarizer/resources/stopwords-bn.txt'\n",
        "os.makedirs(no_stopword_dir, exist_ok=True)\n",
        "\n",
        "with open(stopwords_file, 'r', encoding='utf-8') as f:\n",
        "    stopwords = set([line.strip() for line in f if line.strip()])\n",
        "\n",
        "def remove_stopwords(text, stopwords):\n",
        "    words = text.split()\n",
        "    filtered_words = [w for w in words if w not in stopwords]\n",
        "    return ' '.join(filtered_words)\n",
        "\n",
        "for filename in os.listdir(clean_text_dir):\n",
        "    if filename.endswith('.txt'):\n",
        "        file_path = os.path.join(clean_text_dir, filename)\n",
        "        with open(file_path, 'r', encoding='utf-8') as f:\n",
        "            text = f.read()\n",
        "\n",
        "        filtered_text = remove_stopwords(text, stopwords)\n",
        "\n",
        "        output_file = os.path.join(no_stopword_dir, filename)\n",
        "        with open(output_file, 'w', encoding='utf-8') as f:\n",
        "            f.write(filtered_text)\n",
        "\n",
        "print(f\"Stopword removal completed. Processed files saved in: {no_stopword_dir}\")\n"
      ],
      "metadata": {
        "colab": {
          "base_uri": "https://localhost:8080/"
        },
        "id": "S2lkuxDFYyZq",
        "outputId": "d824a8cd-936a-4a5f-aa5b-b0c410a63a20"
      },
      "execution_count": 37,
      "outputs": [
        {
          "output_type": "stream",
          "name": "stdout",
          "text": [
            "Stopword removal completed. Processed files saved in: /content/drive/MyDrive/BanglaNewsSummarizer/output/text/no_stopwords/\n"
          ]
        }
      ]
    },
    {
      "cell_type": "code",
      "source": [
        "import nltk\n",
        "nltk.download('punkt')\n"
      ],
      "metadata": {
        "colab": {
          "base_uri": "https://localhost:8080/"
        },
        "id": "bMk2pSmij1JN",
        "outputId": "7b48c0bb-dc05-402b-8c5f-86fad48c9d03"
      },
      "execution_count": 38,
      "outputs": [
        {
          "output_type": "stream",
          "name": "stderr",
          "text": [
            "[nltk_data] Downloading package punkt to /root/nltk_data...\n",
            "[nltk_data]   Package punkt is already up-to-date!\n"
          ]
        },
        {
          "output_type": "execute_result",
          "data": {
            "text/plain": [
              "True"
            ]
          },
          "metadata": {},
          "execution_count": 38
        }
      ]
    },
    {
      "cell_type": "code",
      "source": [
        "nltk.download('punkt_tab')"
      ],
      "metadata": {
        "colab": {
          "base_uri": "https://localhost:8080/"
        },
        "id": "RnelXk88j-Y3",
        "outputId": "7bd840a1-070c-4c70-b1e8-88654d49a216"
      },
      "execution_count": 39,
      "outputs": [
        {
          "output_type": "stream",
          "name": "stderr",
          "text": [
            "[nltk_data] Downloading package punkt_tab to /root/nltk_data...\n",
            "[nltk_data]   Package punkt_tab is already up-to-date!\n"
          ]
        },
        {
          "output_type": "execute_result",
          "data": {
            "text/plain": [
              "True"
            ]
          },
          "metadata": {},
          "execution_count": 39
        }
      ]
    },
    {
      "cell_type": "markdown",
      "source": [
        "## Tokenization and Preprocessing"
      ],
      "metadata": {
        "id": "IuAjXgZShR7S"
      }
    },
    {
      "cell_type": "code",
      "source": [
        "import os\n",
        "import re\n",
        "import nltk\n",
        "from nltk.tokenize import sent_tokenize, word_tokenize\n",
        "\n",
        "no_stopword_dir = '/content/drive/MyDrive/BanglaNewsSummarizer/output/text/no_stopwords/'\n",
        "preprocessed_dir = '/content/drive/MyDrive/BanglaNewsSummarizer/output/text/preprocessed/'\n",
        "os.makedirs(preprocessed_dir, exist_ok=True)\n",
        "\n",
        "def preprocess_for_summary(text):\n",
        "    sentences = sent_tokenize(text)\n",
        "\n",
        "    tokenized_sentences = []\n",
        "    for sent in sentences:\n",
        "        words = word_tokenize(sent)\n",
        "        words = [w.lower() for w in words if w.strip()]\n",
        "        tokenized_sentences.append(' '.join(words))\n",
        "\n",
        "    preprocessed_text = '\\n'.join(tokenized_sentences)\n",
        "    return preprocessed_text\n",
        "\n",
        "for filename in os.listdir(no_stopword_dir):\n",
        "    if filename.endswith('.txt'):\n",
        "        file_path = os.path.join(no_stopword_dir, filename)\n",
        "        with open(file_path, 'r', encoding='utf-8') as f:\n",
        "            text = f.read()\n",
        "\n",
        "        preprocessed_text = preprocess_for_summary(text)\n",
        "\n",
        "        output_file = os.path.join(preprocessed_dir, filename)\n",
        "        with open(output_file, 'w', encoding='utf-8') as f:\n",
        "            f.write(preprocessed_text)\n",
        "\n",
        "print(f\"Tokenization & preprocessing completed. Files saved in: {preprocessed_dir}\")\n"
      ],
      "metadata": {
        "colab": {
          "base_uri": "https://localhost:8080/"
        },
        "id": "RrEEbZLDaClI",
        "outputId": "d7822253-8906-49e0-c5db-e86149560879"
      },
      "execution_count": 40,
      "outputs": [
        {
          "output_type": "stream",
          "name": "stdout",
          "text": [
            "Tokenization & preprocessing completed. Files saved in: /content/drive/MyDrive/BanglaNewsSummarizer/output/text/preprocessed/\n"
          ]
        }
      ]
    },
    {
      "cell_type": "markdown",
      "source": [
        "## Output & Summaries"
      ],
      "metadata": {
        "id": "8SNuXKsKhclL"
      }
    },
    {
      "cell_type": "code",
      "source": [
        "import os\n",
        "import json\n",
        "import pandas as pd\n",
        "from sumy.parsers.plaintext import PlaintextParser\n",
        "from sumy.nlp.tokenizers import Tokenizer\n",
        "from sumy.summarizers.lex_rank import LexRankSummarizer\n",
        "\n",
        "preprocessed_dir = '/content/drive/MyDrive/BanglaNewsSummarizer/output/text/preprocessed/'\n",
        "image_dir = '/content/drive/MyDrive/BanglaNewsSummarizer/data/'\n",
        "summary_output_dir = '/content/drive/MyDrive/BanglaNewsSummarizer/output/summaries/'\n",
        "file_output_dir = '/content/drive/MyDrive/BanglaNewsSummarizer/output/'\n",
        "os.makedirs(summary_output_dir, exist_ok=True)\n",
        "\n",
        "csv_path = os.path.join(file_output_dir, 'summaries.csv')\n",
        "json_path = os.path.join(file_output_dir, 'summaries.json')\n",
        "\n",
        "def generate_drive_link(filename):\n",
        "    return f\"https://drive.google.com/drive/folders/1RtjjlESwGPELEhpq7LhBr-zVRk41hnQT?usp=sharing/{filename}\"\n",
        "\n",
        "def frequency_based_summary(text, ratio=0.2):\n",
        "    sentences = text.split('\\n')\n",
        "    word_freq = {}\n",
        "    for sent in sentences:\n",
        "        for word in sent.split():\n",
        "            word_freq[word] = word_freq.get(word, 0) + 1\n",
        "    sentence_scores = {sent: sum(word_freq.get(w, 0) for w in sent.split()) for sent in sentences}\n",
        "    top_sentences = sorted(sentence_scores, key=sentence_scores.get, reverse=True)\n",
        "    n = max(1, int(len(sentences) * ratio))\n",
        "    return '। '.join(top_sentences[:n]) + '।'\n",
        "\n",
        "class BanglaTokenizer(Tokenizer):\n",
        "    def __init__(self):\n",
        "        super().__init__('english')\n",
        "    def to_sentences(self, text):\n",
        "        return [s.strip() for s in text.split('\\n') if s.strip()]\n",
        "\n",
        "\n",
        "summaries = []\n",
        "\n",
        "for filename in os.listdir(preprocessed_dir):\n",
        "    if filename.endswith('.txt'):\n",
        "        file_path = os.path.join(preprocessed_dir, filename)\n",
        "        with open(file_path, 'r', encoding='utf-8') as f:\n",
        "            text = f.read().strip()\n",
        "\n",
        "        lines = [line.strip() for line in text.split('\\n') if line.strip()]\n",
        "        if len(lines) > 0:\n",
        "            first_line = lines[0]\n",
        "            first_sentence = first_line.split('।')[0]\n",
        "            words = first_sentence.split()\n",
        "            headline = ' '.join(words[:12]) + ('...' if len(words) > 12 else '')\n",
        "        else:\n",
        "            headline = filename.replace('.txt', '')\n",
        "\n",
        "\n",
        "        parser = PlaintextParser.from_string(text, BanglaTokenizer())\n",
        "        summarizer = LexRankSummarizer()\n",
        "        summary_sentences = summarizer(parser.document, sentences_count=max(1, int(len(lines) * 0.2)))\n",
        "        summary = '। '.join([str(sentence) for sentence in summary_sentences]) + '।'\n",
        "\n",
        "\n",
        "        if len(summary.strip()) < 15:\n",
        "            summary = frequency_based_summary(text)\n",
        "\n",
        "\n",
        "        summary_filename = filename.replace('.txt', '_summary.txt')\n",
        "        summary_path = os.path.join(summary_output_dir, summary_filename)\n",
        "        with open(summary_path, 'w', encoding='utf-8') as sf:\n",
        "            sf.write(summary)\n",
        "\n",
        "\n",
        "        summaries.append({\n",
        "            'title': headline,\n",
        "            'link': generate_drive_link(filename.replace('.txt', '.jpg')),\n",
        "            'summary': summary\n",
        "        })\n",
        "\n",
        "df = pd.DataFrame(summaries)\n",
        "df.to_csv(csv_path, index=False, encoding='utf-8-sig')\n",
        "\n",
        "\n",
        "with open(json_path, 'w', encoding='utf-8') as jf:\n",
        "    json.dump(summaries, jf, ensure_ascii=False, indent=2)\n",
        "\n",
        "\n",
        "df.head()\n"
      ],
      "metadata": {
        "colab": {
          "base_uri": "https://localhost:8080/",
          "height": 206
        },
        "id": "9ewIewddWsjV",
        "outputId": "0889f67a-e5dd-434e-8d02-f9f2bafc91cd"
      },
      "execution_count": 42,
      "outputs": [
        {
          "output_type": "execute_result",
          "data": {
            "text/plain": [
              "                                               title  \\\n",
              "0  সংস্কৃতিকমী নর খোকন ৪৯ সাড়ে ১১ ৃ রা ইন্না লিল...   \n",
              "1  চ গ্রামে ১ ৭০০ কেজি চা জব্দ নিজস্ব প্রতিবেদক চ...   \n",
              "2  অম্ন্যাশয় পাচক রস তৈরি চেয়েছিলেন বিচিত্র ইউপ...   \n",
              "3  গম ৬ মহাসড়কে বাসের যাত্রীদের টার্গেট ছিনতাই ৮...   \n",
              "4  আআ বিষয়ে মতিন বছরের গ তীর শক্মা ব্যাংকে ্রা্ট...   \n",
              "\n",
              "                                                link  \\\n",
              "0  https://drive.google.com/drive/folders/1RtjjlE...   \n",
              "1  https://drive.google.com/drive/folders/1RtjjlE...   \n",
              "2  https://drive.google.com/drive/folders/1RtjjlE...   \n",
              "3  https://drive.google.com/drive/folders/1RtjjlE...   \n",
              "4  https://drive.google.com/drive/folders/1RtjjlE...   \n",
              "\n",
              "                                             summary  \n",
              "0  সংস্কৃতিকমী নর খোকন ৪৯ সাড়ে ১১ ৃ রা ইন্না লিল...  \n",
              "1  চ গ্রামে ১ ৭০০ কেজি চা জব্দ নিজস্ব প্রতিবেদক চ...  \n",
              "2  অম্ন্যাশয় পাচক রস তৈরি চেয়েছিলেন বিচিত্র ইউপ...  \n",
              "3  গম ৬ মহাসড়কে বাসের যাত্রীদের টার্গেট ছিনতাই ৮...  \n",
              "4  আআ বিষয়ে মতিন বছরের গ তীর শক্মা ব্যাংকে ্রা্ট...  "
            ],
            "text/html": [
              "\n",
              "  <div id=\"df-e582b15b-5cbf-4bbe-9b28-d66fd3e1eb89\" class=\"colab-df-container\">\n",
              "    <div>\n",
              "<style scoped>\n",
              "    .dataframe tbody tr th:only-of-type {\n",
              "        vertical-align: middle;\n",
              "    }\n",
              "\n",
              "    .dataframe tbody tr th {\n",
              "        vertical-align: top;\n",
              "    }\n",
              "\n",
              "    .dataframe thead th {\n",
              "        text-align: right;\n",
              "    }\n",
              "</style>\n",
              "<table border=\"1\" class=\"dataframe\">\n",
              "  <thead>\n",
              "    <tr style=\"text-align: right;\">\n",
              "      <th></th>\n",
              "      <th>title</th>\n",
              "      <th>link</th>\n",
              "      <th>summary</th>\n",
              "    </tr>\n",
              "  </thead>\n",
              "  <tbody>\n",
              "    <tr>\n",
              "      <th>0</th>\n",
              "      <td>সংস্কৃতিকমী নর খোকন ৪৯ সাড়ে ১১ ৃ রা ইন্না লিল...</td>\n",
              "      <td>https://drive.google.com/drive/folders/1RtjjlE...</td>\n",
              "      <td>সংস্কৃতিকমী নর খোকন ৪৯ সাড়ে ১১ ৃ রা ইন্না লিল...</td>\n",
              "    </tr>\n",
              "    <tr>\n",
              "      <th>1</th>\n",
              "      <td>চ গ্রামে ১ ৭০০ কেজি চা জব্দ নিজস্ব প্রতিবেদক চ...</td>\n",
              "      <td>https://drive.google.com/drive/folders/1RtjjlE...</td>\n",
              "      <td>চ গ্রামে ১ ৭০০ কেজি চা জব্দ নিজস্ব প্রতিবেদক চ...</td>\n",
              "    </tr>\n",
              "    <tr>\n",
              "      <th>2</th>\n",
              "      <td>অম্ন্যাশয় পাচক রস তৈরি চেয়েছিলেন বিচিত্র ইউপ...</td>\n",
              "      <td>https://drive.google.com/drive/folders/1RtjjlE...</td>\n",
              "      <td>অম্ন্যাশয় পাচক রস তৈরি চেয়েছিলেন বিচিত্র ইউপ...</td>\n",
              "    </tr>\n",
              "    <tr>\n",
              "      <th>3</th>\n",
              "      <td>গম ৬ মহাসড়কে বাসের যাত্রীদের টার্গেট ছিনতাই ৮...</td>\n",
              "      <td>https://drive.google.com/drive/folders/1RtjjlE...</td>\n",
              "      <td>গম ৬ মহাসড়কে বাসের যাত্রীদের টার্গেট ছিনতাই ৮...</td>\n",
              "    </tr>\n",
              "    <tr>\n",
              "      <th>4</th>\n",
              "      <td>আআ বিষয়ে মতিন বছরের গ তীর শক্মা ব্যাংকে ্রা্ট...</td>\n",
              "      <td>https://drive.google.com/drive/folders/1RtjjlE...</td>\n",
              "      <td>আআ বিষয়ে মতিন বছরের গ তীর শক্মা ব্যাংকে ্রা্ট...</td>\n",
              "    </tr>\n",
              "  </tbody>\n",
              "</table>\n",
              "</div>\n",
              "    <div class=\"colab-df-buttons\">\n",
              "\n",
              "  <div class=\"colab-df-container\">\n",
              "    <button class=\"colab-df-convert\" onclick=\"convertToInteractive('df-e582b15b-5cbf-4bbe-9b28-d66fd3e1eb89')\"\n",
              "            title=\"Convert this dataframe to an interactive table.\"\n",
              "            style=\"display:none;\">\n",
              "\n",
              "  <svg xmlns=\"http://www.w3.org/2000/svg\" height=\"24px\" viewBox=\"0 -960 960 960\">\n",
              "    <path d=\"M120-120v-720h720v720H120Zm60-500h600v-160H180v160Zm220 220h160v-160H400v160Zm0 220h160v-160H400v160ZM180-400h160v-160H180v160Zm440 0h160v-160H620v160ZM180-180h160v-160H180v160Zm440 0h160v-160H620v160Z\"/>\n",
              "  </svg>\n",
              "    </button>\n",
              "\n",
              "  <style>\n",
              "    .colab-df-container {\n",
              "      display:flex;\n",
              "      gap: 12px;\n",
              "    }\n",
              "\n",
              "    .colab-df-convert {\n",
              "      background-color: #E8F0FE;\n",
              "      border: none;\n",
              "      border-radius: 50%;\n",
              "      cursor: pointer;\n",
              "      display: none;\n",
              "      fill: #1967D2;\n",
              "      height: 32px;\n",
              "      padding: 0 0 0 0;\n",
              "      width: 32px;\n",
              "    }\n",
              "\n",
              "    .colab-df-convert:hover {\n",
              "      background-color: #E2EBFA;\n",
              "      box-shadow: 0px 1px 2px rgba(60, 64, 67, 0.3), 0px 1px 3px 1px rgba(60, 64, 67, 0.15);\n",
              "      fill: #174EA6;\n",
              "    }\n",
              "\n",
              "    .colab-df-buttons div {\n",
              "      margin-bottom: 4px;\n",
              "    }\n",
              "\n",
              "    [theme=dark] .colab-df-convert {\n",
              "      background-color: #3B4455;\n",
              "      fill: #D2E3FC;\n",
              "    }\n",
              "\n",
              "    [theme=dark] .colab-df-convert:hover {\n",
              "      background-color: #434B5C;\n",
              "      box-shadow: 0px 1px 3px 1px rgba(0, 0, 0, 0.15);\n",
              "      filter: drop-shadow(0px 1px 2px rgba(0, 0, 0, 0.3));\n",
              "      fill: #FFFFFF;\n",
              "    }\n",
              "  </style>\n",
              "\n",
              "    <script>\n",
              "      const buttonEl =\n",
              "        document.querySelector('#df-e582b15b-5cbf-4bbe-9b28-d66fd3e1eb89 button.colab-df-convert');\n",
              "      buttonEl.style.display =\n",
              "        google.colab.kernel.accessAllowed ? 'block' : 'none';\n",
              "\n",
              "      async function convertToInteractive(key) {\n",
              "        const element = document.querySelector('#df-e582b15b-5cbf-4bbe-9b28-d66fd3e1eb89');\n",
              "        const dataTable =\n",
              "          await google.colab.kernel.invokeFunction('convertToInteractive',\n",
              "                                                    [key], {});\n",
              "        if (!dataTable) return;\n",
              "\n",
              "        const docLinkHtml = 'Like what you see? Visit the ' +\n",
              "          '<a target=\"_blank\" href=https://colab.research.google.com/notebooks/data_table.ipynb>data table notebook</a>'\n",
              "          + ' to learn more about interactive tables.';\n",
              "        element.innerHTML = '';\n",
              "        dataTable['output_type'] = 'display_data';\n",
              "        await google.colab.output.renderOutput(dataTable, element);\n",
              "        const docLink = document.createElement('div');\n",
              "        docLink.innerHTML = docLinkHtml;\n",
              "        element.appendChild(docLink);\n",
              "      }\n",
              "    </script>\n",
              "  </div>\n",
              "\n",
              "\n",
              "    <div id=\"df-3c02c383-92f7-4802-90bf-8880ef0f810d\">\n",
              "      <button class=\"colab-df-quickchart\" onclick=\"quickchart('df-3c02c383-92f7-4802-90bf-8880ef0f810d')\"\n",
              "                title=\"Suggest charts\"\n",
              "                style=\"display:none;\">\n",
              "\n",
              "<svg xmlns=\"http://www.w3.org/2000/svg\" height=\"24px\"viewBox=\"0 0 24 24\"\n",
              "     width=\"24px\">\n",
              "    <g>\n",
              "        <path d=\"M19 3H5c-1.1 0-2 .9-2 2v14c0 1.1.9 2 2 2h14c1.1 0 2-.9 2-2V5c0-1.1-.9-2-2-2zM9 17H7v-7h2v7zm4 0h-2V7h2v10zm4 0h-2v-4h2v4z\"/>\n",
              "    </g>\n",
              "</svg>\n",
              "      </button>\n",
              "\n",
              "<style>\n",
              "  .colab-df-quickchart {\n",
              "      --bg-color: #E8F0FE;\n",
              "      --fill-color: #1967D2;\n",
              "      --hover-bg-color: #E2EBFA;\n",
              "      --hover-fill-color: #174EA6;\n",
              "      --disabled-fill-color: #AAA;\n",
              "      --disabled-bg-color: #DDD;\n",
              "  }\n",
              "\n",
              "  [theme=dark] .colab-df-quickchart {\n",
              "      --bg-color: #3B4455;\n",
              "      --fill-color: #D2E3FC;\n",
              "      --hover-bg-color: #434B5C;\n",
              "      --hover-fill-color: #FFFFFF;\n",
              "      --disabled-bg-color: #3B4455;\n",
              "      --disabled-fill-color: #666;\n",
              "  }\n",
              "\n",
              "  .colab-df-quickchart {\n",
              "    background-color: var(--bg-color);\n",
              "    border: none;\n",
              "    border-radius: 50%;\n",
              "    cursor: pointer;\n",
              "    display: none;\n",
              "    fill: var(--fill-color);\n",
              "    height: 32px;\n",
              "    padding: 0;\n",
              "    width: 32px;\n",
              "  }\n",
              "\n",
              "  .colab-df-quickchart:hover {\n",
              "    background-color: var(--hover-bg-color);\n",
              "    box-shadow: 0 1px 2px rgba(60, 64, 67, 0.3), 0 1px 3px 1px rgba(60, 64, 67, 0.15);\n",
              "    fill: var(--button-hover-fill-color);\n",
              "  }\n",
              "\n",
              "  .colab-df-quickchart-complete:disabled,\n",
              "  .colab-df-quickchart-complete:disabled:hover {\n",
              "    background-color: var(--disabled-bg-color);\n",
              "    fill: var(--disabled-fill-color);\n",
              "    box-shadow: none;\n",
              "  }\n",
              "\n",
              "  .colab-df-spinner {\n",
              "    border: 2px solid var(--fill-color);\n",
              "    border-color: transparent;\n",
              "    border-bottom-color: var(--fill-color);\n",
              "    animation:\n",
              "      spin 1s steps(1) infinite;\n",
              "  }\n",
              "\n",
              "  @keyframes spin {\n",
              "    0% {\n",
              "      border-color: transparent;\n",
              "      border-bottom-color: var(--fill-color);\n",
              "      border-left-color: var(--fill-color);\n",
              "    }\n",
              "    20% {\n",
              "      border-color: transparent;\n",
              "      border-left-color: var(--fill-color);\n",
              "      border-top-color: var(--fill-color);\n",
              "    }\n",
              "    30% {\n",
              "      border-color: transparent;\n",
              "      border-left-color: var(--fill-color);\n",
              "      border-top-color: var(--fill-color);\n",
              "      border-right-color: var(--fill-color);\n",
              "    }\n",
              "    40% {\n",
              "      border-color: transparent;\n",
              "      border-right-color: var(--fill-color);\n",
              "      border-top-color: var(--fill-color);\n",
              "    }\n",
              "    60% {\n",
              "      border-color: transparent;\n",
              "      border-right-color: var(--fill-color);\n",
              "    }\n",
              "    80% {\n",
              "      border-color: transparent;\n",
              "      border-right-color: var(--fill-color);\n",
              "      border-bottom-color: var(--fill-color);\n",
              "    }\n",
              "    90% {\n",
              "      border-color: transparent;\n",
              "      border-bottom-color: var(--fill-color);\n",
              "    }\n",
              "  }\n",
              "</style>\n",
              "\n",
              "      <script>\n",
              "        async function quickchart(key) {\n",
              "          const quickchartButtonEl =\n",
              "            document.querySelector('#' + key + ' button');\n",
              "          quickchartButtonEl.disabled = true;  // To prevent multiple clicks.\n",
              "          quickchartButtonEl.classList.add('colab-df-spinner');\n",
              "          try {\n",
              "            const charts = await google.colab.kernel.invokeFunction(\n",
              "                'suggestCharts', [key], {});\n",
              "          } catch (error) {\n",
              "            console.error('Error during call to suggestCharts:', error);\n",
              "          }\n",
              "          quickchartButtonEl.classList.remove('colab-df-spinner');\n",
              "          quickchartButtonEl.classList.add('colab-df-quickchart-complete');\n",
              "        }\n",
              "        (() => {\n",
              "          let quickchartButtonEl =\n",
              "            document.querySelector('#df-3c02c383-92f7-4802-90bf-8880ef0f810d button');\n",
              "          quickchartButtonEl.style.display =\n",
              "            google.colab.kernel.accessAllowed ? 'block' : 'none';\n",
              "        })();\n",
              "      </script>\n",
              "    </div>\n",
              "\n",
              "    </div>\n",
              "  </div>\n"
            ],
            "application/vnd.google.colaboratory.intrinsic+json": {
              "type": "dataframe",
              "variable_name": "df",
              "summary": "{\n  \"name\": \"df\",\n  \"rows\": 16,\n  \"fields\": [\n    {\n      \"column\": \"title\",\n      \"properties\": {\n        \"dtype\": \"string\",\n        \"num_unique_values\": 16,\n        \"samples\": [\n          \"\\u09b8\\u0982\\u09b8\\u09cd\\u0995\\u09c3\\u09a4\\u09bf\\u0995\\u09ae\\u09c0 \\u09a8\\u09b0 \\u0996\\u09cb\\u0995\\u09a8 \\u09ea\\u09ef \\u09b8\\u09be\\u09a1\\u09bc\\u09c7 \\u09e7\\u09e7 \\u09c3 \\u09b0\\u09be \\u0987\\u09a8\\u09cd\\u09a8\\u09be \\u09b2\\u09bf\\u09b2\\u09cd\\u09b2\\u09be\\u09b9\\u09bf \\u0993\\u09af\\u09bc\\u09be \\u0987\\u09b2\\u09be\\u0987\\u0987...\",\n          \"\\u099a \\u0997\\u09cd\\u09b0\\u09be\\u09ae\\u09c7 \\u09e7 \\u09ed\\u09e6\\u09e6 \\u0995\\u09c7\\u099c\\u09bf \\u099a\\u09be \\u099c\\u09ac\\u09cd\\u09a6 \\u09a8\\u09bf\\u099c\\u09b8\\u09cd\\u09ac \\u09aa\\u09cd\\u09b0\\u09a4\\u09bf\\u09ac\\u09c7\\u09a6\\u0995 \\u099a\\u099f\\u09cd\\u099f\\u0997\\u09cd\\u09b0\\u09be\\u09ae \\u0985\\u09ac\\u09c8\\u09a7\\u09ad\\u09be\\u09ac\\u09c7 \\u099a\\u09be...\",\n          \"\\u09e7 \\u09aa\\u09be \\u09a0 \\u09b8\\u09c0 \\u09a8\\u09c0 \\u09e7\\u09ed \\u09eb \\u09a2\\u09c1 \\u09a4\\u09cd\\u09af \\u09b9\\u09be\\u09b8\\u09aa\\u09be\\u09a4\\u09be\\u09b2\\u09c7 \\u09ad\\u09be\\u09a4 \\u09e7\\u09e7\\u09ec...\"\n        ],\n        \"semantic_type\": \"\",\n        \"description\": \"\"\n      }\n    },\n    {\n      \"column\": \"link\",\n      \"properties\": {\n        \"dtype\": \"string\",\n        \"num_unique_values\": 16,\n        \"samples\": [\n          \"https://drive.google.com/drive/folders/1RtjjlESwGPELEhpq7LhBr-zVRk41hnQT?usp=sharing/0005.jpg\",\n          \"https://drive.google.com/drive/folders/1RtjjlESwGPELEhpq7LhBr-zVRk41hnQT?usp=sharing/0004.jpg\",\n          \"https://drive.google.com/drive/folders/1RtjjlESwGPELEhpq7LhBr-zVRk41hnQT?usp=sharing/0006.jpg\"\n        ],\n        \"semantic_type\": \"\",\n        \"description\": \"\"\n      }\n    },\n    {\n      \"column\": \"summary\",\n      \"properties\": {\n        \"dtype\": \"string\",\n        \"num_unique_values\": 16,\n        \"samples\": [\n          \"\\u09b8\\u0982\\u09b8\\u09cd\\u0995\\u09c3\\u09a4\\u09bf\\u0995\\u09ae\\u09c0 \\u09a8\\u09b0 \\u0996\\u09cb\\u0995\\u09a8 \\u09ea\\u09ef \\u09b8\\u09be\\u09a1\\u09bc\\u09c7 \\u09e7\\u09e7 \\u09c3 \\u09b0\\u09be \\u0987\\u09a8\\u09cd\\u09a8\\u09be \\u09b2\\u09bf\\u09b2\\u09cd\\u09b2\\u09be\\u09b9\\u09bf \\u0993\\u09af\\u09bc\\u09be \\u0987\\u09b2\\u09be\\u0987\\u0987 \\u09b0\\u09be\\u099c\\u09bf\\u0989\\u09a8 \\u0986\\u09b2\\u09be\\u0989\\u09a6\\u09cd\\u09a6\\u09bf\\u09a8 \\u09ac\\u09bf\\u0995\\u09c7\\u09b2\\u09c7 \\u0996\\u09cb\\u0995\\u09a8 \\u09c3 \\u0983 \\u099a\\u099f\\u09cd\\u099f\\u0997\\u09cd\\u09b0\\u09be\\u09ae \\u09ae\\u09bf\\u09b0\\u09b0 \\u09ae\\u09bf\\u09a8 \\u09a1\\u09be \\u09b0\\u09c7 \\u09e7\\u09e7\\u099f\\u09be\\u09af\\u09bc \\u099c\\u09c7\\u09b2\\u09be \\u0997\\u09a4 \\u09b8\\u09cb\\u09ae\\u09ac\\u09be\\u09b0 \\u09c3 \\u09b0\\u09bf \\u09af\\u09b2 \\u09b6\\u09bf \\u098f\\u09b0\\u09aa\\u09b0 \\u09b6\\u09be\\u09b9\\u09c0\\u09a8\\u09c7 \\u09aa\\u09cd\\u09b0\\u09be\\u0999\\u09cd\\u0997\\u09cd \\u0995\\u09be\\u09a8\\u09a8 \\u09ee\\u09e6\\u09ed \\u099c\\u09be\\u09a8\\u09be\\u099c\\u09be \\u099c\\u09be \\u09ec \\u09aa\\u09be\\u0999\\u09cd\\u0997\\u09a3\\u09c7\\u0964\",\n          \"\\u099a \\u0997\\u09cd\\u09b0\\u09be\\u09ae\\u09c7 \\u09e7 \\u09ed\\u09e6\\u09e6 \\u0995\\u09c7\\u099c\\u09bf \\u099a\\u09be \\u099c\\u09ac\\u09cd\\u09a6 \\u09a8\\u09bf\\u099c\\u09b8\\u09cd\\u09ac \\u09aa\\u09cd\\u09b0\\u09a4\\u09bf\\u09ac\\u09c7\\u09a6\\u0995 \\u099a\\u099f\\u09cd\\u099f\\u0997\\u09cd\\u09b0\\u09be\\u09ae \\u0985\\u09ac\\u09c8\\u09a7\\u09ad\\u09be\\u09ac\\u09c7 \\u099a\\u09be \\u09ac\\u09c7\\u099a\\u09be\\u0995\\u09c7\\u09a8\\u09be \\u09ac\\u09be\\u099c\\u09be\\u09b0\\u099e\\u09cd\\u099c\\u09be\\u09a4\\u09c7\\u09b0 \\u0985\\u09ad\\u09bf\\u09af\\u09cb\\u0997\\u09c7 \\u09a8\\u0997\\u09b0\\u09c7\\u09b0 \\u09ac\\u09b9\\u09a6\\u09cd\\u09a6\\u09be\\u09b0\\u09b9\\u09be\\u099f \\u098f\\u09b2\\u09be\\u0995\\u09be\\u09af\\u09bc \\u09f7 \\u09aa\\u09cd\\u09af\\u09be\\u0995\\u09c7\\u099c\\u09bf\\u0982 \\u0995\\u09be\\u09b0\\u0996\\u09be\\u09a8\\u09be \\u09e7 \\u09ed\\u09e6\\u09e6 \\u0995\\u09c7\\u099c\\u09bf \\u099a\\u09be \\u099c\\u09ac\\u09cd\\u09a6 \\u099a\\u09be \\u09ac\\u09cb\\u09b0\\u09cd\\u09a1\\u09c7\\u09b0 \\u09ad\\u09cd\\u09b0\\u09be\\u09ae\\u09cd\\u09af\\u09ae\\u09be\\u09a3 \\u0986\\u09a6\\u09be\\u09b2\\u09a4 \\u0997\\u09a4\\u0995\\u09be\\u09b2 \\u09ae\\u0999\\u09cd\\u0997\\u09b2\\u09ac\\u09be\\u09b0 \\u0985\\u09ad\\u09bf\\u09af\\u09be\\u09a8 \\u09b6\\u09c7\\u09b7\\u09c7 \\u0995\\u09be\\u09b0\\u0996\\u09be\\u09a8\\u09be\\u099f\\u09bf \\u09f7 \\u09ac\\u09a8\\u09cd\\u09a7 \\u09b0\\u09be\\u0996\\u09be\\u09b0 \\u09a8\\u09bf\\u09b0\\u09cd\\u09a6\\u09c7\\u09b6 \\u09ad\\u09cd\\u09b0\\u09be\\u09ae\\u09cd\\u09af\\u09ae\\u09be\\u09a3 \\u0986\\u09a6\\u09be\\u09b2\\u09a4 \\u09ad\\u09cd\\u09b0\\u09be\\u09ae\\u09cd\\u09af\\u09ae\\u09be\\u09a3 \\u0986\\u09a6\\u09be\\u09b2\\u09a4 \\u099c\\u09be\\u09a8\\u09be\\u09a8 \\u099a\\u09be \\u09ac\\u09cb\\u09b0\\u09cd\\u09a1\\u09c7\\u09b0 \\u09f7 \\u09b2\\u09be\\u0987\\u09b8\\u09c7\\u09a8\\u09cd\\u09b8 \\u09ac\\u09b9\\u09a6\\u09cd\\u09a6\\u09be\\u09b0\\u09b9\\u09be\\u099f\\u09c7\\u09b0 \\u099f\\u09cd\\u09b0\\u09c7\\u09a1\\u09bf\\u0982 \\u09f7 \\u09aa\\u09cd\\u09af\\u09be\\u0995\\u09c7\\u099c\\u09bf\\u0982 \\u0995\\u09be\\u09b0\\u0996\\u09be\\u09a8\\u09be\\u09af\\u09bc \\u099a\\u09be \\u09aa\\u09cd\\u09af\\u09be\\u0995\\u09c7\\u099f\\u099c\\u09be\\u09a4 \\u09ac\\u09be\\u099c\\u09be\\u09b0\\u099c\\u09be\\u09a4 \\u09f7 \\u09b9\\u099a\\u09cd\\u099b\\u09bf\\u09b2 \\u0985\\u09ad\\u09bf\\u09af\\u09be\\u09a8\\u09c7 \\u099a\\u09be \\u0995\\u09c7\\u09a8\\u09be\\u09b0 \\u09aa\\u09cd\\u09b0\\u09ae\\u09be\\u09a3\\u09aa\\u09a4\\u09cd\\u09b0 \\u099f\\u09cd\\u09b0\\u09c7\\u09a1\\u09ae\\u09be\\u09b0\\u09cd\\u0995\\u09c7\\u09b0 \\u0985\\u09a8\\u09c1\\u09ae\\u09cb\\u09a6\\u09a8 \\u09ac\\u09be\\u0982\\u09b2\\u09be\\u09a6\\u09c7\\u09b6 \\u099a\\u09be \\u09ac\\u09cb\\u09b0\\u09cd\\u09a1\\u09c7\\u09b0 \\u0989\\u09aa\\u09b8\\u099a\\u09bf\\u09ac \\u09a8\\u09bf\\u09b0\\u09cd\\u09ac\\u09be\\u09b9\\u09c0 \\u09f7 \\u09ae\\u09cd\\u09af\\u09be\\u099c\\u09bf\\u09b8\\u09cd\\u099f\\u09cd\\u09b0\\u09c7\\u099f \\u09ae\\u09cb\\u09b9\\u09be\\u09ae\\u09cd\\u09ae\\u09be\\u09a6 \\u09b0\\u09c1\\u09b9\\u09c1\\u09b2 \\u0986\\u09ae\\u09c0\\u09a8 \\u0985\\u09ad\\u09bf\\u09af\\u09be\\u09a8 \\u09aa\\u09b0\\u09bf\\u099a\\u09be\\u09b2\\u09a8\\u09be \\u0985\\u09ad\\u09bf\\u09af\\u09be\\u09a8\\u09c7\\u09b0 \\u09b8\\u09ae\\u09af\\u09bc \\u098f\\u09b8\\u098f\\u09b8 \\u099f\\u09cd\\u09b0\\u09c7\\u09a1\\u09bf\\u0982\\u09af\\u09bc\\u09c7\\u09b0 \\u09ae\\u09be\\u09b2\\u09bf\\u0995 \\u0986\\u09ac\\u09c1\\u09b2 \\u09b9\\u09be\\u09b8\\u09be\\u09a8\\u0995\\u09c7 \\u09ae\\u09c1\\u09a0\\u09cb\\u09ab\\u09cb\\u09a8\\u09c7 \\u0995\\u09b2 \\u09b8\\u09ae\\u09af\\u09bc \\u0986\\u09ac\\u09c1\\u09b2 \\u09b9\\u09be\\u09b8\\u09be\\u09a8 \\u09ae\\u09cd\\u09af\\u09be\\u099c\\u09bf\\u09b8\\u09cd\\u099f\\u09cd\\u09b0\\u09c7\\u099f\\u0995\\u09c7 \\u099c\\u09be\\u09a8\\u09be\\u09a8 \\u099a\\u09be \\u0998\\u09b0 \\u09ee \\u09ec\\u09e8 \\u09ea\\u09e8 \\u09e8 \\u09b0\\u09c1\\u09aa \\u09b6\\u09cd \\u09eb\\u09e7 \\u09ad\\u09bf \\u09a8\\u0982 \\u09b0\\u0983\\u0964\",\n          \"\\u09e7 \\u09aa\\u09be \\u09a0 \\u09b8\\u09c0 \\u09a8\\u09c0 \\u09e7\\u09ed \\u09eb \\u09a2\\u09c1 \\u09a4\\u09cd\\u09af \\u09b9\\u09be\\u09b8\\u09aa\\u09be\\u09a4\\u09be\\u09b2\\u09c7 \\u09ad\\u09be\\u09a4 \\u09e7\\u09e7\\u09ec \\u09a8\\u09bf\\u099c\\u09b8\\u09cd\\u09ac \\u09aa\\u09cd\\u09b0\\u09a4\\u09bf\\u09ac\\u09c7\\u09a6\\u0995 \\u099a\\u09cd\\u0989\\u0997\\u09cd\\u09b0\\u09be\\u09ae \\u099a\\u099f\\u09cd\\u099f\\u0997\\u09cd\\u09b0\\u09be\\u09ae\\u09c7 \\u09b6\\u09c7\\u09b7 \\u09e8\\u09ea \\u0998\\u09a3\\u09cd\\u099f\\u09be\\u09af\\u09bc \\u09a1\\u09c7\\u0999\\u09cd\\u0997\\u09c1\\u09a4\\u09c7 \\u098f\\u0995 \\u09ab\\u09cd\\u0995\\u09c1\\u09b2\\u099b\\u09be\\u09a4\\u09cd\\u09b0 \\u09ae\\u09be\\u09b0\\u09be \\u09b8\\u09ae\\u09af\\u09bc\\u09c7 \\u09e7\\u09e7\\u09ec \\u09b9\\u09be\\u09b8\\u09aa\\u09be\\u09a4\\u09be\\u09b2\\u09c7 \\u09a4\\u09c3\\u09b0\\u09cd\\u09a4\\u09bf \\u0997\\u09a4\\u0995\\u09be\\u09b2 \\u09ae\\u0999\\u09cd\\u0997\\u09b2\\u09ac\\u09be\\u09b0 \\u09aa\\u09cd\\u09b0\\u09a4\\u09bf\\u09ac\\u09c7\\u09a6\\u09a8\\u09c7 \\u098f\\u09b8\\u09ac \\u09a4\\u09a5\\u09cd\\u09af \\u09ae\\u09be\\u09b0\\u09be \\u09b6\\u09bf\\u09b6\\u09c1\\u099f\\u09bf\\u09b0 \\u09a8\\u09be\\u09ae \\u0986\\u09ac\\u09c1 \\u09ae\\u09c1\\u09b9\\u09be\\u09ae\\u09cd\\u09ae\\u09a6 \\u09b8\\u09be\\u09ab\\u09be\\u09a4 \\u099a\\u09cc\\u09a7\\u09c1\\u09b0\\u09c0 \\u09ee \\u09a8\\u0997\\u09b0\\u09c7\\u09b0 \\u099c\\u09be\\u09ae\\u09be\\u09b2\\u0996\\u09be\\u09a8\\u09c7\\u09b0 \\u0993\\u09af\\u09bc\\u09be\\u09b2\\u09bf \\u0989\\u09b2\\u09cd\\u09b2\\u09be\\u09b9 \\u0987\\u09a8\\u09b8\\u09cd\\u099f\\u09bf\\u099f\\u09bf\\u0989\\u099f\\u09c7\\u09b0 \\u09a6\\u09cd\\u09ac\\u09bf\\u09a4\\u09c0\\u09af\\u09bc \\u09b6\\u09cd\\u09b0\\u09c7\\u09a3\\u09bf\\u09b0 \\u099b\\u09be\\u09a4\\u09cd\\u09b0 \\u09ac\\u09be\\u09ac\\u09be\\u09b0 \\u09a8\\u09be\\u09ae \\u0986\\u09ac\\u09c1 \\u09b0\\u09be\\u09af\\u09bc\\u09b9\\u09be\\u09a8 \\u099a\\u09cc\\u09a7\\u09c1\\u09b0\\u09c0 \\u09a8\\u0997\\u09b0\\u09c7\\u09b0 \\u09a6\\u09c7\\u0993\\u09af\\u09bc\\u09be\\u09a8\\u09ac\\u09be\\u099c\\u09be\\u09b0 \\u098f\\u09b2\\u09be\\u0995\\u09be\\u09af\\u09bc \\u09a1\\u09c7\\u09b8\\u09cd\\u0995\\u09c1\\u09a4\\u09c7 \\u0986\\u0995\\u09cd\\u09b0\\u09be\\u09a8\\u09cd\\u09a4 \\u0997\\u09a4 \\u09b0\\u09cb\\u09ac\\u09ac\\u09be\\u09b0 \\u0986\\u09aa\\u09cb\\u09b2\\u09cb \\u0987\\u09ae\\u09cd\\u09aa\\u09c7\\u09b0\\u09bf\\u09af\\u09bc\\u09be\\u09b2 \\u09b9\\u09be\\u09b8\\u09aa\\u09be\\u09a4\\u09be\\u09b2\\u09c7 \\u09ad\\u09b0\\u09cd\\u09a4\\u09bf \\u0997\\u09a4 \\u09b8\\u09cb\\u09ae\\u09ac\\u09be\\u09b0 \\u09ae\\u09c3\\u09a4\\u09cd\\u09af\\u09c1 \\u099a\\u099f\\u09cd\\u099f\\u0997\\u09cd\\u09b0\\u09be\\u09ae\\u09c7 \\u09a1\\u09c7\\u0999\\u09cd\\u0997\\u09c1\\u09a4\\u09c7 \\u09ae\\u09c3\\u09a4\\u09cd\\u09af\\u09c1 \\u09eb\\u09ec \\u09b6\\u09bf\\u09b6\\u09c1 \\u09e8\\u09e8 \\u09a1\\u09c7\\u0999\\u09cd\\u0997\\u09c1\\u09a4\\u09c7 \\u0986\\u0995\\u09cd\\u09b0\\u09be\\u09a8\\u09cd\\u09a4 \\u09ec \\u09e9\\u09ee\\u09e8 \\u099a\\u099f\\u09cd\\u099f\\u0997\\u09cd\\u09b0\\u09be\\u09ae\\u09c7\\u09b0 \\u09ac\\u09bf\\u09a4\\u09bf\\u09a8\\u09cd\\u09a8 \\u09b9\\u09be\\u09b8\\u09aa\\u09be\\u09a4\\u09be\\u09b2\\u09c7 \\u09a1\\u09c7\\u0999\\u09cd\\u0997\\u09c1\\u09a4\\u09c7 \\u0986\\u0995\\u09cd\\u09b0\\u09be\\u09a8\\u09cd\\u09a4 \\u09e9\\u09e6\\u09e6 \\u099a\\u09bf\\u0995\\u09bf\\u09ce\\u09b8\\u09be\\u09a7\\u09c0\\u09a8 \\u09b0\\u09af\\u09bc\\u09c7\\u099b\\u09c7\\u09a8 \\u09b8\\u09ac\\u099a\\u09c7\\u09af\\u09bc\\u09c7 \\u09e9 \\u09e7\\u09e7 \\u09a1\\u09c7\\u0999\\u09cd\\u0995\\u09c1\\u09a4\\u09c7 \\u0986\\u0995\\u09cd\\u09b0\\u09be\\u09a8\\u09cd\\u09a4 \\u0986\\u0997\\u09b8\\u09cd\\u099f \\u09ae\\u09be\\u09b8\\u09c7 \\u09ae\\u09be\\u09b8\\u09c7 \\u09a1\\u09c7\\u0999\\u09cd\\u0995\\u09c1\\u09a4\\u09c7 \\u09ae\\u09be\\u09b0\\u09be \\u0997\\u09c7\\u099b\\u09c7\\u09a8 \\u09b8\\u09b0\\u09cd\\u09ac\\u09cb\\u099a\\u09cd\\u099a \\u09e8\\u09ee \\u099a\\u09b2\\u09a4\\u09bf \\u09ae\\u09be\\u09b8\\u09c7\\u09b0 \\u09a6\\u09bf\\u09a8\\u09c7 \\u09a1\\u09c7\\u09b8\\u09cd\\u0997\\u09c1\\u09a4\\u09c7 \\u0986\\u0995\\u09cd\\u09b0\\u09be\\u09a8\\u09cd\\u09a4 \\u09eb\\u09ef\\u09eb \\u09ae\\u09be\\u09b0\\u09be \\u0997\\u09c7\\u099b\\u09c7\\u09a8 \\u09a4\\u09bf\\u09a8\\u099c\\u09a8 \\u09b8\\u09bf\\u09ad\\u09bf\\u09b2 \\u09b8\\u09be\\u09b0\\u09cd\\u099c\\u09a8 \\u09ae\\u09cb\\u09b9\\u09be\\u09ae\\u09cd\\u09ae\\u09a6 \\u0987\\u09b2\\u09bf\\u09af\\u09bc\\u09be\\u099b \\u099a\\u09cc\\u09a7\\u09c1\\u09b0\\u09c0 \\u0986\\u0997\\u09b8\\u09cd\\u099f \\u09ae\\u09be\\u09b8\\u09c7 \\u09a1\\u09c7\\u0999\\u09cd\\u0995\\u09c1\\u09a4\\u09c7 \\u0986\\u0995\\u09cd\\u09b0\\u09be\\u09a8\\u09cd\\u09a4 \\u09b8\\u09ac\\u099a\\u09c7\\u09af\\u09bc\\u09c7 \\u098f\\u0996\\u09a8\\u09cb \\u09a7\\u09be\\u09b0\\u09be \\u0995\\u09ae\\u09c7\\u09a8\\u09bf \\u09ac\\u09c3\\u09b7\\u09cd\\u099f\\u09bf \\u09a5\\u09c7\\u09ae\\u09c7 \\u09a5\\u09c7\\u09ae\\u09c7 \\u0995\\u09be\\u09b0\\u09a3\\u09c7 \\u099c\\u09be\\u09af\\u09bc\\u0997\\u09be\\u09af\\u09bc \\u09aa\\u09be\\u09a8\\u09bf \\u099c\\u09ae\\u09c7 \\u098f\\u09a1\\u09bf\\u09b8 \\u09ae\\u09b6\\u09be\\u09b0 \\u09aa\\u09cd\\u09b0\\u099c\\u09a8\\u09a8 \\u09ac\\u09be\\u09a1\\u09bc\\u09be\\u09b0 \\u0986\\u09b6\\u0999\\u09cd\\u0995\\u09be\\u0964\"\n        ],\n        \"semantic_type\": \"\",\n        \"description\": \"\"\n      }\n    }\n  ]\n}"
            }
          },
          "metadata": {},
          "execution_count": 42
        }
      ]
    }
  ]
}